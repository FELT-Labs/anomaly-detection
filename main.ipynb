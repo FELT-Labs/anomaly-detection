{
 "cells": [
  {
   "attachments": {},
   "cell_type": "markdown",
   "metadata": {},
   "source": [
    "### Clone repository and set up environment to make this work in Google Colab"
   ]
  },
  {
   "cell_type": "code",
   "execution_count": 28,
   "metadata": {},
   "outputs": [],
   "source": [
    "# Making notebook work in Google Colab (clone repo and install requirements)\n",
    "if 'google.colab' in str(get_ipython()):\n",
    "    !git clone https://github.com/FELT-Labs/anomaly-detection.git\n",
    "    !cp -R anomaly-detection/* .\n",
    "    %pip install -r requirements.txt"
   ]
  },
  {
   "attachments": {},
   "cell_type": "markdown",
   "metadata": {},
   "source": [
    "# Anomaly Detection\n",
    "This notebook demonstrates usage in FELT Labs. And simulates the decentralized training in local setting"
   ]
  },
  {
   "cell_type": "code",
   "execution_count": 29,
   "metadata": {},
   "outputs": [],
   "source": [
    "import os\n",
    "import sys\n",
    "\n",
    "import matplotlib.pyplot as plt\n",
    "import numpy as np\n",
    "import pandas as pd\n",
    "import seaborn as sns\n",
    "\n",
    "from src.train import federated_training\n",
    "from src.data import get_datafiles, get_data\n",
    "\n",
    "sns.set_theme()"
   ]
  },
  {
   "attachments": {},
   "cell_type": "markdown",
   "metadata": {},
   "source": [
    "# Standard Deviation\n",
    "\n",
    "We show test calculation of standard deviation on 3 datasets and compare it with calculation on centralized data.\n",
    "\n",
    "_Here in the notebook we run the decentralized calculation in local setting just for testing_\n"
   ]
  },
  {
   "cell_type": "code",
   "execution_count": 30,
   "metadata": {},
   "outputs": [
    {
     "name": "stdout",
     "output_type": "stream",
     "text": [
      "Training finished.\n",
      "Training finished.\n",
      "Training finished.\n",
      "Aggregation finished.\n",
      "\n",
      "Decentralized Result\n",
      "Std value is 106.03914280262282\n"
     ]
    }
   ],
   "source": [
    "args = {\n",
    "    \"iterations\": 1,\n",
    "    \"target_column\": -1,\n",
    "    \"model_definition\": {\n",
    "        \"model_type\": \"analytics\",\n",
    "        \"model_name\": \"Std\",\n",
    "    },\n",
    "}\n",
    "\n",
    "# Split dataset into 3 files and calculate the statistics in federated setting\n",
    "files = get_datafiles(3)\n",
    "model = federated_training(data_files=files, **args)\n",
    "\n",
    "print(\"\\nDecentralized Result\")\n",
    "std = model.predict(None)"
   ]
  },
  {
   "cell_type": "code",
   "execution_count": 31,
   "metadata": {},
   "outputs": [
    {
     "name": "stdout",
     "output_type": "stream",
     "text": [
      "Centralized Result\n",
      "Std is 106.03914280262275\n"
     ]
    }
   ],
   "source": [
    "# Centralized setting, just load all data and pick target column\n",
    "data = get_data().to_numpy()\n",
    "y = data[:, args[\"target_column\"]]\n",
    "\n",
    "print(\"Centralized Result\")\n",
    "print(\"Std is\", y.std())\n"
   ]
  },
  {
   "attachments": {},
   "cell_type": "markdown",
   "metadata": {},
   "source": [
    "**We see that both results from FELT library and centralized calculation are the same.** This is important so we know that we can reliably use the FELT library and obtain same results as in centralized setting.\n",
    "\n",
    "## Anomaly Detection (test)\n",
    "We will use simple z-score to detect anomalies. This is very simple statical method, but can be efficient for detecting the biggest outliers.\n",
    "\n",
    "$$\n",
    "\\text{z-score} = \\frac{X - mean}{\\sigma}\n",
    "$$\n",
    "\n",
    "And we will assume that any point with z-score greater than 2 is anomaly.\n",
    "\n",
    "\n",
    "**1. Calculate Mean and Std on 3 distributed datasets:**"
   ]
  },
  {
   "cell_type": "code",
   "execution_count": 68,
   "metadata": {},
   "outputs": [
    {
     "name": "stdout",
     "output_type": "stream",
     "text": [
      "Training finished.\n",
      "Training finished.\n",
      "Training finished.\n",
      "Aggregation finished.\n"
     ]
    }
   ],
   "source": [
    "args = {\n",
    "    \"iterations\": 1,\n",
    "    \"target_column\": -1,\n",
    "    \"model_definition\": [\n",
    "        {\n",
    "            \"model_type\": \"analytics\",\n",
    "            \"model_name\": \"Mean\",\n",
    "        },\n",
    "        {\n",
    "            \"model_type\": \"analytics\",\n",
    "            \"model_name\": \"Std\",\n",
    "        }\n",
    "    ],\n",
    "}\n",
    "\n",
    "# Get mean, std on 3 decentralized datasets\n",
    "files = get_datafiles(3)\n",
    "model = federated_training(data_files=files, **args)"
   ]
  },
  {
   "attachments": {},
   "cell_type": "markdown",
   "metadata": {},
   "source": [
    "**2. Use the model and evaluate values from first dataset:**"
   ]
  },
  {
   "cell_type": "code",
   "execution_count": 69,
   "metadata": {},
   "outputs": [
    {
     "name": "stdout",
     "output_type": "stream",
     "text": [
      "Mean value is 47.12484333882109\n",
      "Std value is 106.03914280262282\n",
      "{'Mean': 47.12484333882109, 'Std': 106.03914280262282}\n"
     ]
    },
    {
     "data": {
      "image/png": "[encoded data removed]",
      "text/plain": [
       "<Figure size 720x504 with 1 Axes>"
      ]
     },
     "metadata": {},
     "output_type": "display_data"
    }
   ],
   "source": [
    "data = pd.read_csv(files[0]).to_numpy()\n",
    "y = data[:, args[\"target_column\"]]\n",
    "\n",
    "# Dictionary mapping model name to calculated value (e.g. {\"Mean\": 10, ...})\n",
    "values = {m.model_name: m.predict(None) for m in model.models}\n",
    "print(values)\n",
    "\n",
    "threshold = 2\n",
    "anomaly = abs((y - values[\"Mean\"]) / values[\"Std\"]) > threshold\n",
    "\n",
    "plt.figure(figsize=(10, 7))\n",
    "plt.plot(anomaly, label=f\"Total anomalies: {sum(anomaly)}\")\n",
    "\n",
    "nonzero = np.nonzero(anomaly)[0]\n",
    "plt.scatter(nonzero, np.ones_like(nonzero), c=\"r\")\n",
    "for x in nonzero:\n",
    "    plt.annotate(\n",
    "        f\"{x}\",\n",
    "        (x, 1),\n",
    "        textcoords=\"offset points\",\n",
    "        xytext=(0, 5),\n",
    "        ha='center'\n",
    "    )\n",
    "\n",
    "plt.xlabel(\"Production Period\")\n",
    "plt.ylabel(\"Anomaly\")\n",
    "plt.yticks([0, 1], [\"No\", \"Yes\"])\n",
    "plt.legend(title=\"Status\", loc=6)\n",
    "plt.title(\"Anomaly status for each period\")\n",
    "# plt.savefig(\"result.jpg\")\n",
    "plt.show()"
   ]
  }
 ],
 "metadata": {
  "kernelspec": {
   "display_name": "Python 3",
   "language": "python",
   "name": "python3"
  },
  "language_info": {
   "codemirror_mode": {
    "name": "ipython",
    "version": 3
   },
   "file_extension": ".py",
   "mimetype": "text/x-python",
   "name": "python",
   "nbconvert_exporter": "python",
   "pygments_lexer": "ipython3",
   "version": "3.9.5"
  },
  "orig_nbformat": 4,
  "vscode": {
   "interpreter": {
    "hash": "f9f85f796d01129d0dd105a088854619f454435301f6ffec2fea96ecbd9be4ac"
   }
  }
 },
 "nbformat": 4,
 "nbformat_minor": 2
}
